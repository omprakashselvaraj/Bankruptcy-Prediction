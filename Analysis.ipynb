{
 "cells": [
  {
   "cell_type": "code",
   "execution_count": 1,
   "id": "fe36eaa6-4a20-45e5-8152-80c7cd95eaa7",
   "metadata": {},
   "outputs": [
    {
     "name": "stderr",
     "output_type": "stream",
     "text": [
      "\n",
      "Attaching package: 'dplyr'\n",
      "\n",
      "\n",
      "The following objects are masked from 'package:stats':\n",
      "\n",
      "    filter, lag\n",
      "\n",
      "\n",
      "The following objects are masked from 'package:base':\n",
      "\n",
      "    intersect, setdiff, setequal, union\n",
      "\n",
      "\n",
      "Loading required package: R6\n",
      "\n",
      "Loading required package: lattice\n",
      "\n",
      "\n",
      "Attaching package: 'CatEncoders'\n",
      "\n",
      "\n",
      "The following object is masked from 'package:base':\n",
      "\n",
      "    transform\n",
      "\n",
      "\n",
      "\n",
      "Attaching package: 'gridExtra'\n",
      "\n",
      "\n",
      "The following object is masked from 'package:dplyr':\n",
      "\n",
      "    combine\n",
      "\n",
      "\n",
      "Loading required package: grid\n",
      "\n",
      "Loading required package: mvtnorm\n",
      "\n",
      "Loading required package: modeltools\n",
      "\n",
      "Loading required package: stats4\n",
      "\n",
      "Loading required package: strucchange\n",
      "\n",
      "Loading required package: zoo\n",
      "\n",
      "\n",
      "Attaching package: 'zoo'\n",
      "\n",
      "\n",
      "The following objects are masked from 'package:base':\n",
      "\n",
      "    as.Date, as.Date.numeric\n",
      "\n",
      "\n",
      "Loading required package: sandwich\n",
      "\n",
      "\n",
      "Attaching package: 'party'\n",
      "\n",
      "\n",
      "The following object is masked from 'package:dplyr':\n",
      "\n",
      "    where\n",
      "\n",
      "\n",
      "randomForest 4.7-1.1\n",
      "\n",
      "Type rfNews() to see new features/changes/bug fixes.\n",
      "\n",
      "\n",
      "Attaching package: 'randomForest'\n",
      "\n",
      "\n",
      "The following object is masked from 'package:gridExtra':\n",
      "\n",
      "    combine\n",
      "\n",
      "\n",
      "The following object is masked from 'package:ggplot2':\n",
      "\n",
      "    margin\n",
      "\n",
      "\n",
      "The following object is masked from 'package:dplyr':\n",
      "\n",
      "    combine\n",
      "\n",
      "\n",
      "Loading required package: rpart\n",
      "\n"
     ]
    }
   ],
   "source": [
    "library(dplyr)\n",
    "library(ggplot2)\n",
    "library(mlbench)\n",
    "library(superml)\n",
    "library(caret)\n",
    "library(CatEncoders)\n",
    "library(Information)\n",
    "library(gridExtra)\n",
    "library(caTools)\n",
    "library(gensvm)\n",
    "library(party)\n",
    "library(randomForest)\n",
    "library(rpart.plot)\n",
    "library(rpart)"
   ]
  },
  {
   "cell_type": "code",
   "execution_count": 2,
   "id": "3d792ef4-b871-4eab-aed6-f0ac4f971419",
   "metadata": {
    "jp-MarkdownHeadingCollapsed": true,
    "tags": []
   },
   "outputs": [],
   "source": [
    "data <- read.csv('train.csv')"
   ]
  },
  {
   "cell_type": "code",
   "execution_count": 3,
   "id": "5abaf8b8-a3fa-437f-8731-7763c215b0e7",
   "metadata": {},
   "outputs": [
    {
     "data": {
      "text/html": [
       "<table class=\"dataframe\">\n",
       "<caption>A data.frame: 6 × 22</caption>\n",
       "<thead>\n",
       "\t<tr><th></th><th scope=col>id</th><th scope=col>sum</th><th scope=col>term</th><th scope=col>payment</th><th scope=col>guarantees</th><th scope=col>reason</th><th scope=col>credits</th><th scope=col>other_credits</th><th scope=col>credit_report</th><th scope=col>marital_status</th><th scope=col>⋯</th><th scope=col>qualification</th><th scope=col>immigrant</th><th scope=col>residence_since</th><th scope=col>accommodation</th><th scope=col>estate</th><th scope=col>savings</th><th scope=col>dependents</th><th scope=col>phone</th><th scope=col>status</th><th scope=col>bankruptcy</th></tr>\n",
       "\t<tr><th></th><th scope=col>&lt;int&gt;</th><th scope=col>&lt;int&gt;</th><th scope=col>&lt;int&gt;</th><th scope=col>&lt;int&gt;</th><th scope=col>&lt;chr&gt;</th><th scope=col>&lt;chr&gt;</th><th scope=col>&lt;int&gt;</th><th scope=col>&lt;chr&gt;</th><th scope=col>&lt;chr&gt;</th><th scope=col>&lt;chr&gt;</th><th scope=col>⋯</th><th scope=col>&lt;chr&gt;</th><th scope=col>&lt;chr&gt;</th><th scope=col>&lt;int&gt;</th><th scope=col>&lt;chr&gt;</th><th scope=col>&lt;chr&gt;</th><th scope=col>&lt;chr&gt;</th><th scope=col>&lt;int&gt;</th><th scope=col>&lt;chr&gt;</th><th scope=col>&lt;chr&gt;</th><th scope=col>&lt;int&gt;</th></tr>\n",
       "</thead>\n",
       "<tbody>\n",
       "\t<tr><th scope=row>1</th><td>0</td><td>1169</td><td> 6</td><td>4</td><td>none     </td><td>television or radio   </td><td>2</td><td>none</td><td>critical account or other credits existing(not at this bank)</td><td>male single                            </td><td>⋯</td><td>skilled employee  </td><td>yes</td><td>4</td><td>own     </td><td>real estate                                         </td><td>unknown or no savings account</td><td>1</td><td>yes </td><td>less-than 0 cu     </td><td>0</td></tr>\n",
       "\t<tr><th scope=row>2</th><td>1</td><td>5951</td><td>48</td><td>2</td><td>none     </td><td>television or radio   </td><td>1</td><td>none</td><td>existing credits paid back duly till now                    </td><td>female divorced or separated or married</td><td>⋯</td><td>skilled employee  </td><td>yes</td><td>2</td><td>own     </td><td>real estate                                         </td><td>less-than 100 cu             </td><td>1</td><td>none</td><td>0 to 200 cu        </td><td>1</td></tr>\n",
       "\t<tr><th scope=row>3</th><td>2</td><td>2096</td><td>12</td><td>2</td><td>none     </td><td>education             </td><td>1</td><td>none</td><td>critical account or other credits existing(not at this bank)</td><td>male single                            </td><td>⋯</td><td>unskilled resident</td><td>yes</td><td>3</td><td>own     </td><td>real estate                                         </td><td>less-than 100 cu             </td><td>2</td><td>none</td><td>no checking account</td><td>0</td></tr>\n",
       "\t<tr><th scope=row>4</th><td>3</td><td>7882</td><td>42</td><td>2</td><td>guarantor</td><td>furniture or equipment</td><td>1</td><td>none</td><td>existing credits paid back duly till now                    </td><td>male single                            </td><td>⋯</td><td>skilled employee  </td><td>yes</td><td>4</td><td>for free</td><td>building society savings agreement or life insurance</td><td>less-than 100 cu             </td><td>2</td><td>none</td><td>less-than 0 cu     </td><td>0</td></tr>\n",
       "\t<tr><th scope=row>5</th><td>4</td><td>4870</td><td>24</td><td>3</td><td>none     </td><td>new car               </td><td>2</td><td>none</td><td>delay in paying off in the past                             </td><td>male single                            </td><td>⋯</td><td>skilled employee  </td><td>yes</td><td>4</td><td>for free</td><td>unknown or no property                              </td><td>less-than 100 cu             </td><td>2</td><td>none</td><td>less-than 0 cu     </td><td>1</td></tr>\n",
       "\t<tr><th scope=row>6</th><td>5</td><td>9055</td><td>36</td><td>2</td><td>none     </td><td>education             </td><td>1</td><td>none</td><td>existing credits paid back duly till now                    </td><td>male single                            </td><td>⋯</td><td>unskilled resident</td><td>yes</td><td>4</td><td>for free</td><td>unknown or no property                              </td><td>unknown or no savings account</td><td>2</td><td>yes </td><td>no checking account</td><td>0</td></tr>\n",
       "</tbody>\n",
       "</table>\n"
      ],
      "text/latex": [
       "A data.frame: 6 × 22\n",
       "\\begin{tabular}{r|lllllllllllllllllllll}\n",
       "  & id & sum & term & payment & guarantees & reason & credits & other\\_credits & credit\\_report & marital\\_status & ⋯ & qualification & immigrant & residence\\_since & accommodation & estate & savings & dependents & phone & status & bankruptcy\\\\\n",
       "  & <int> & <int> & <int> & <int> & <chr> & <chr> & <int> & <chr> & <chr> & <chr> & ⋯ & <chr> & <chr> & <int> & <chr> & <chr> & <chr> & <int> & <chr> & <chr> & <int>\\\\\n",
       "\\hline\n",
       "\t1 & 0 & 1169 &  6 & 4 & none      & television or radio    & 2 & none & critical account or other credits existing(not at this bank) & male single                             & ⋯ & skilled employee   & yes & 4 & own      & real estate                                          & unknown or no savings account & 1 & yes  & less-than 0 cu      & 0\\\\\n",
       "\t2 & 1 & 5951 & 48 & 2 & none      & television or radio    & 1 & none & existing credits paid back duly till now                     & female divorced or separated or married & ⋯ & skilled employee   & yes & 2 & own      & real estate                                          & less-than 100 cu              & 1 & none & 0 to 200 cu         & 1\\\\\n",
       "\t3 & 2 & 2096 & 12 & 2 & none      & education              & 1 & none & critical account or other credits existing(not at this bank) & male single                             & ⋯ & unskilled resident & yes & 3 & own      & real estate                                          & less-than 100 cu              & 2 & none & no checking account & 0\\\\\n",
       "\t4 & 3 & 7882 & 42 & 2 & guarantor & furniture or equipment & 1 & none & existing credits paid back duly till now                     & male single                             & ⋯ & skilled employee   & yes & 4 & for free & building society savings agreement or life insurance & less-than 100 cu              & 2 & none & less-than 0 cu      & 0\\\\\n",
       "\t5 & 4 & 4870 & 24 & 3 & none      & new car                & 2 & none & delay in paying off in the past                              & male single                             & ⋯ & skilled employee   & yes & 4 & for free & unknown or no property                               & less-than 100 cu              & 2 & none & less-than 0 cu      & 1\\\\\n",
       "\t6 & 5 & 9055 & 36 & 2 & none      & education              & 1 & none & existing credits paid back duly till now                     & male single                             & ⋯ & unskilled resident & yes & 4 & for free & unknown or no property                               & unknown or no savings account & 2 & yes  & no checking account & 0\\\\\n",
       "\\end{tabular}\n"
      ],
      "text/markdown": [
       "\n",
       "A data.frame: 6 × 22\n",
       "\n",
       "| <!--/--> | id &lt;int&gt; | sum &lt;int&gt; | term &lt;int&gt; | payment &lt;int&gt; | guarantees &lt;chr&gt; | reason &lt;chr&gt; | credits &lt;int&gt; | other_credits &lt;chr&gt; | credit_report &lt;chr&gt; | marital_status &lt;chr&gt; | ⋯ ⋯ | qualification &lt;chr&gt; | immigrant &lt;chr&gt; | residence_since &lt;int&gt; | accommodation &lt;chr&gt; | estate &lt;chr&gt; | savings &lt;chr&gt; | dependents &lt;int&gt; | phone &lt;chr&gt; | status &lt;chr&gt; | bankruptcy &lt;int&gt; |\n",
       "|---|---|---|---|---|---|---|---|---|---|---|---|---|---|---|---|---|---|---|---|---|---|\n",
       "| 1 | 0 | 1169 |  6 | 4 | none      | television or radio    | 2 | none | critical account or other credits existing(not at this bank) | male single                             | ⋯ | skilled employee   | yes | 4 | own      | real estate                                          | unknown or no savings account | 1 | yes  | less-than 0 cu      | 0 |\n",
       "| 2 | 1 | 5951 | 48 | 2 | none      | television or radio    | 1 | none | existing credits paid back duly till now                     | female divorced or separated or married | ⋯ | skilled employee   | yes | 2 | own      | real estate                                          | less-than 100 cu              | 1 | none | 0 to 200 cu         | 1 |\n",
       "| 3 | 2 | 2096 | 12 | 2 | none      | education              | 1 | none | critical account or other credits existing(not at this bank) | male single                             | ⋯ | unskilled resident | yes | 3 | own      | real estate                                          | less-than 100 cu              | 2 | none | no checking account | 0 |\n",
       "| 4 | 3 | 7882 | 42 | 2 | guarantor | furniture or equipment | 1 | none | existing credits paid back duly till now                     | male single                             | ⋯ | skilled employee   | yes | 4 | for free | building society savings agreement or life insurance | less-than 100 cu              | 2 | none | less-than 0 cu      | 0 |\n",
       "| 5 | 4 | 4870 | 24 | 3 | none      | new car                | 2 | none | delay in paying off in the past                              | male single                             | ⋯ | skilled employee   | yes | 4 | for free | unknown or no property                               | less-than 100 cu              | 2 | none | less-than 0 cu      | 1 |\n",
       "| 6 | 5 | 9055 | 36 | 2 | none      | education              | 1 | none | existing credits paid back duly till now                     | male single                             | ⋯ | unskilled resident | yes | 4 | for free | unknown or no property                               | unknown or no savings account | 2 | yes  | no checking account | 0 |\n",
       "\n"
      ],
      "text/plain": [
       "  id sum  term payment guarantees reason                 credits other_credits\n",
       "1 0  1169  6   4       none       television or radio    2       none         \n",
       "2 1  5951 48   2       none       television or radio    1       none         \n",
       "3 2  2096 12   2       none       education              1       none         \n",
       "4 3  7882 42   2       guarantor  furniture or equipment 1       none         \n",
       "5 4  4870 24   3       none       new car                2       none         \n",
       "6 5  9055 36   2       none       education              1       none         \n",
       "  credit_report                                               \n",
       "1 critical account or other credits existing(not at this bank)\n",
       "2 existing credits paid back duly till now                    \n",
       "3 critical account or other credits existing(not at this bank)\n",
       "4 existing credits paid back duly till now                    \n",
       "5 delay in paying off in the past                             \n",
       "6 existing credits paid back duly till now                    \n",
       "  marital_status                          ⋯ qualification      immigrant\n",
       "1 male single                             ⋯ skilled employee   yes      \n",
       "2 female divorced or separated or married ⋯ skilled employee   yes      \n",
       "3 male single                             ⋯ unskilled resident yes      \n",
       "4 male single                             ⋯ skilled employee   yes      \n",
       "5 male single                             ⋯ skilled employee   yes      \n",
       "6 male single                             ⋯ unskilled resident yes      \n",
       "  residence_since accommodation\n",
       "1 4               own          \n",
       "2 2               own          \n",
       "3 3               own          \n",
       "4 4               for free     \n",
       "5 4               for free     \n",
       "6 4               for free     \n",
       "  estate                                              \n",
       "1 real estate                                         \n",
       "2 real estate                                         \n",
       "3 real estate                                         \n",
       "4 building society savings agreement or life insurance\n",
       "5 unknown or no property                              \n",
       "6 unknown or no property                              \n",
       "  savings                       dependents phone status              bankruptcy\n",
       "1 unknown or no savings account 1          yes   less-than 0 cu      0         \n",
       "2 less-than 100 cu              1          none  0 to 200 cu         1         \n",
       "3 less-than 100 cu              2          none  no checking account 0         \n",
       "4 less-than 100 cu              2          none  less-than 0 cu      0         \n",
       "5 less-than 100 cu              2          none  less-than 0 cu      1         \n",
       "6 unknown or no savings account 2          yes   no checking account 0         "
      ]
     },
     "metadata": {},
     "output_type": "display_data"
    }
   ],
   "source": [
    "head(data)"
   ]
  },
  {
   "cell_type": "code",
   "execution_count": 4,
   "id": "8768a500-5f5e-4d57-a087-e7b143c19649",
   "metadata": {},
   "outputs": [
    {
     "data": {
      "text/html": [
       "<style>\n",
       ".list-inline {list-style: none; margin:0; padding: 0}\n",
       ".list-inline>li {display: inline-block}\n",
       ".list-inline>li:not(:last-child)::after {content: \"\\00b7\"; padding: 0 .5ex}\n",
       "</style>\n",
       "<ol class=list-inline><li>800</li><li>22</li></ol>\n"
      ],
      "text/latex": [
       "\\begin{enumerate*}\n",
       "\\item 800\n",
       "\\item 22\n",
       "\\end{enumerate*}\n"
      ],
      "text/markdown": [
       "1. 800\n",
       "2. 22\n",
       "\n",
       "\n"
      ],
      "text/plain": [
       "[1] 800  22"
      ]
     },
     "metadata": {},
     "output_type": "display_data"
    }
   ],
   "source": [
    "dim(data)"
   ]
  },
  {
   "cell_type": "code",
   "execution_count": 5,
   "id": "7f4c82dc-3e6d-47f6-a588-3c4a30c6cc49",
   "metadata": {},
   "outputs": [
    {
     "data": {
      "text/html": [
       "<style>\n",
       ".list-inline {list-style: none; margin:0; padding: 0}\n",
       ".list-inline>li {display: inline-block}\n",
       ".list-inline>li:not(:last-child)::after {content: \"\\00b7\"; padding: 0 .5ex}\n",
       "</style>\n",
       "<ol class=list-inline><li>'id'</li><li>'sum'</li><li>'term'</li><li>'payment'</li><li>'guarantees'</li><li>'reason'</li><li>'credits'</li><li>'other_credits'</li><li>'credit_report'</li><li>'marital_status'</li><li>'age'</li><li>'employment'</li><li>'qualification'</li><li>'immigrant'</li><li>'residence_since'</li><li>'accommodation'</li><li>'estate'</li><li>'savings'</li><li>'dependents'</li><li>'phone'</li><li>'status'</li><li>'bankruptcy'</li></ol>\n"
      ],
      "text/latex": [
       "\\begin{enumerate*}\n",
       "\\item 'id'\n",
       "\\item 'sum'\n",
       "\\item 'term'\n",
       "\\item 'payment'\n",
       "\\item 'guarantees'\n",
       "\\item 'reason'\n",
       "\\item 'credits'\n",
       "\\item 'other\\_credits'\n",
       "\\item 'credit\\_report'\n",
       "\\item 'marital\\_status'\n",
       "\\item 'age'\n",
       "\\item 'employment'\n",
       "\\item 'qualification'\n",
       "\\item 'immigrant'\n",
       "\\item 'residence\\_since'\n",
       "\\item 'accommodation'\n",
       "\\item 'estate'\n",
       "\\item 'savings'\n",
       "\\item 'dependents'\n",
       "\\item 'phone'\n",
       "\\item 'status'\n",
       "\\item 'bankruptcy'\n",
       "\\end{enumerate*}\n"
      ],
      "text/markdown": [
       "1. 'id'\n",
       "2. 'sum'\n",
       "3. 'term'\n",
       "4. 'payment'\n",
       "5. 'guarantees'\n",
       "6. 'reason'\n",
       "7. 'credits'\n",
       "8. 'other_credits'\n",
       "9. 'credit_report'\n",
       "10. 'marital_status'\n",
       "11. 'age'\n",
       "12. 'employment'\n",
       "13. 'qualification'\n",
       "14. 'immigrant'\n",
       "15. 'residence_since'\n",
       "16. 'accommodation'\n",
       "17. 'estate'\n",
       "18. 'savings'\n",
       "19. 'dependents'\n",
       "20. 'phone'\n",
       "21. 'status'\n",
       "22. 'bankruptcy'\n",
       "\n",
       "\n"
      ],
      "text/plain": [
       " [1] \"id\"              \"sum\"             \"term\"            \"payment\"        \n",
       " [5] \"guarantees\"      \"reason\"          \"credits\"         \"other_credits\"  \n",
       " [9] \"credit_report\"   \"marital_status\"  \"age\"             \"employment\"     \n",
       "[13] \"qualification\"   \"immigrant\"       \"residence_since\" \"accommodation\"  \n",
       "[17] \"estate\"          \"savings\"         \"dependents\"      \"phone\"          \n",
       "[21] \"status\"          \"bankruptcy\"     "
      ]
     },
     "metadata": {},
     "output_type": "display_data"
    }
   ],
   "source": [
    "colnames(data)"
   ]
  },
  {
   "cell_type": "code",
   "execution_count": 6,
   "id": "141b52db-3402-43bc-9ca8-b70da29057db",
   "metadata": {},
   "outputs": [],
   "source": [
    "data = select(data, -id)"
   ]
  },
  {
   "cell_type": "code",
   "execution_count": 7,
   "id": "57fb952f-6be1-4f45-ab5c-d9de3a612abc",
   "metadata": {},
   "outputs": [
    {
     "data": {
      "text/html": [
       "<table class=\"dataframe\">\n",
       "<caption>A data.frame: 6 × 21</caption>\n",
       "<thead>\n",
       "\t<tr><th></th><th scope=col>sum</th><th scope=col>term</th><th scope=col>payment</th><th scope=col>guarantees</th><th scope=col>reason</th><th scope=col>credits</th><th scope=col>other_credits</th><th scope=col>credit_report</th><th scope=col>marital_status</th><th scope=col>age</th><th scope=col>⋯</th><th scope=col>qualification</th><th scope=col>immigrant</th><th scope=col>residence_since</th><th scope=col>accommodation</th><th scope=col>estate</th><th scope=col>savings</th><th scope=col>dependents</th><th scope=col>phone</th><th scope=col>status</th><th scope=col>bankruptcy</th></tr>\n",
       "\t<tr><th></th><th scope=col>&lt;int&gt;</th><th scope=col>&lt;int&gt;</th><th scope=col>&lt;int&gt;</th><th scope=col>&lt;chr&gt;</th><th scope=col>&lt;chr&gt;</th><th scope=col>&lt;int&gt;</th><th scope=col>&lt;chr&gt;</th><th scope=col>&lt;chr&gt;</th><th scope=col>&lt;chr&gt;</th><th scope=col>&lt;int&gt;</th><th scope=col>⋯</th><th scope=col>&lt;chr&gt;</th><th scope=col>&lt;chr&gt;</th><th scope=col>&lt;int&gt;</th><th scope=col>&lt;chr&gt;</th><th scope=col>&lt;chr&gt;</th><th scope=col>&lt;chr&gt;</th><th scope=col>&lt;int&gt;</th><th scope=col>&lt;chr&gt;</th><th scope=col>&lt;chr&gt;</th><th scope=col>&lt;int&gt;</th></tr>\n",
       "</thead>\n",
       "<tbody>\n",
       "\t<tr><th scope=row>1</th><td>1169</td><td> 6</td><td>4</td><td>none     </td><td>television or radio   </td><td>2</td><td>none</td><td>critical account or other credits existing(not at this bank)</td><td>male single                            </td><td>67</td><td>⋯</td><td>skilled employee  </td><td>yes</td><td>4</td><td>own     </td><td>real estate                                         </td><td>unknown or no savings account</td><td>1</td><td>yes </td><td>less-than 0 cu     </td><td>0</td></tr>\n",
       "\t<tr><th scope=row>2</th><td>5951</td><td>48</td><td>2</td><td>none     </td><td>television or radio   </td><td>1</td><td>none</td><td>existing credits paid back duly till now                    </td><td>female divorced or separated or married</td><td>22</td><td>⋯</td><td>skilled employee  </td><td>yes</td><td>2</td><td>own     </td><td>real estate                                         </td><td>less-than 100 cu             </td><td>1</td><td>none</td><td>0 to 200 cu        </td><td>1</td></tr>\n",
       "\t<tr><th scope=row>3</th><td>2096</td><td>12</td><td>2</td><td>none     </td><td>education             </td><td>1</td><td>none</td><td>critical account or other credits existing(not at this bank)</td><td>male single                            </td><td>49</td><td>⋯</td><td>unskilled resident</td><td>yes</td><td>3</td><td>own     </td><td>real estate                                         </td><td>less-than 100 cu             </td><td>2</td><td>none</td><td>no checking account</td><td>0</td></tr>\n",
       "\t<tr><th scope=row>4</th><td>7882</td><td>42</td><td>2</td><td>guarantor</td><td>furniture or equipment</td><td>1</td><td>none</td><td>existing credits paid back duly till now                    </td><td>male single                            </td><td>45</td><td>⋯</td><td>skilled employee  </td><td>yes</td><td>4</td><td>for free</td><td>building society savings agreement or life insurance</td><td>less-than 100 cu             </td><td>2</td><td>none</td><td>less-than 0 cu     </td><td>0</td></tr>\n",
       "\t<tr><th scope=row>5</th><td>4870</td><td>24</td><td>3</td><td>none     </td><td>new car               </td><td>2</td><td>none</td><td>delay in paying off in the past                             </td><td>male single                            </td><td>53</td><td>⋯</td><td>skilled employee  </td><td>yes</td><td>4</td><td>for free</td><td>unknown or no property                              </td><td>less-than 100 cu             </td><td>2</td><td>none</td><td>less-than 0 cu     </td><td>1</td></tr>\n",
       "\t<tr><th scope=row>6</th><td>9055</td><td>36</td><td>2</td><td>none     </td><td>education             </td><td>1</td><td>none</td><td>existing credits paid back duly till now                    </td><td>male single                            </td><td>35</td><td>⋯</td><td>unskilled resident</td><td>yes</td><td>4</td><td>for free</td><td>unknown or no property                              </td><td>unknown or no savings account</td><td>2</td><td>yes </td><td>no checking account</td><td>0</td></tr>\n",
       "</tbody>\n",
       "</table>\n"
      ],
      "text/latex": [
       "A data.frame: 6 × 21\n",
       "\\begin{tabular}{r|lllllllllllllllllllll}\n",
       "  & sum & term & payment & guarantees & reason & credits & other\\_credits & credit\\_report & marital\\_status & age & ⋯ & qualification & immigrant & residence\\_since & accommodation & estate & savings & dependents & phone & status & bankruptcy\\\\\n",
       "  & <int> & <int> & <int> & <chr> & <chr> & <int> & <chr> & <chr> & <chr> & <int> & ⋯ & <chr> & <chr> & <int> & <chr> & <chr> & <chr> & <int> & <chr> & <chr> & <int>\\\\\n",
       "\\hline\n",
       "\t1 & 1169 &  6 & 4 & none      & television or radio    & 2 & none & critical account or other credits existing(not at this bank) & male single                             & 67 & ⋯ & skilled employee   & yes & 4 & own      & real estate                                          & unknown or no savings account & 1 & yes  & less-than 0 cu      & 0\\\\\n",
       "\t2 & 5951 & 48 & 2 & none      & television or radio    & 1 & none & existing credits paid back duly till now                     & female divorced or separated or married & 22 & ⋯ & skilled employee   & yes & 2 & own      & real estate                                          & less-than 100 cu              & 1 & none & 0 to 200 cu         & 1\\\\\n",
       "\t3 & 2096 & 12 & 2 & none      & education              & 1 & none & critical account or other credits existing(not at this bank) & male single                             & 49 & ⋯ & unskilled resident & yes & 3 & own      & real estate                                          & less-than 100 cu              & 2 & none & no checking account & 0\\\\\n",
       "\t4 & 7882 & 42 & 2 & guarantor & furniture or equipment & 1 & none & existing credits paid back duly till now                     & male single                             & 45 & ⋯ & skilled employee   & yes & 4 & for free & building society savings agreement or life insurance & less-than 100 cu              & 2 & none & less-than 0 cu      & 0\\\\\n",
       "\t5 & 4870 & 24 & 3 & none      & new car                & 2 & none & delay in paying off in the past                              & male single                             & 53 & ⋯ & skilled employee   & yes & 4 & for free & unknown or no property                               & less-than 100 cu              & 2 & none & less-than 0 cu      & 1\\\\\n",
       "\t6 & 9055 & 36 & 2 & none      & education              & 1 & none & existing credits paid back duly till now                     & male single                             & 35 & ⋯ & unskilled resident & yes & 4 & for free & unknown or no property                               & unknown or no savings account & 2 & yes  & no checking account & 0\\\\\n",
       "\\end{tabular}\n"
      ],
      "text/markdown": [
       "\n",
       "A data.frame: 6 × 21\n",
       "\n",
       "| <!--/--> | sum &lt;int&gt; | term &lt;int&gt; | payment &lt;int&gt; | guarantees &lt;chr&gt; | reason &lt;chr&gt; | credits &lt;int&gt; | other_credits &lt;chr&gt; | credit_report &lt;chr&gt; | marital_status &lt;chr&gt; | age &lt;int&gt; | ⋯ ⋯ | qualification &lt;chr&gt; | immigrant &lt;chr&gt; | residence_since &lt;int&gt; | accommodation &lt;chr&gt; | estate &lt;chr&gt; | savings &lt;chr&gt; | dependents &lt;int&gt; | phone &lt;chr&gt; | status &lt;chr&gt; | bankruptcy &lt;int&gt; |\n",
       "|---|---|---|---|---|---|---|---|---|---|---|---|---|---|---|---|---|---|---|---|---|---|\n",
       "| 1 | 1169 |  6 | 4 | none      | television or radio    | 2 | none | critical account or other credits existing(not at this bank) | male single                             | 67 | ⋯ | skilled employee   | yes | 4 | own      | real estate                                          | unknown or no savings account | 1 | yes  | less-than 0 cu      | 0 |\n",
       "| 2 | 5951 | 48 | 2 | none      | television or radio    | 1 | none | existing credits paid back duly till now                     | female divorced or separated or married | 22 | ⋯ | skilled employee   | yes | 2 | own      | real estate                                          | less-than 100 cu              | 1 | none | 0 to 200 cu         | 1 |\n",
       "| 3 | 2096 | 12 | 2 | none      | education              | 1 | none | critical account or other credits existing(not at this bank) | male single                             | 49 | ⋯ | unskilled resident | yes | 3 | own      | real estate                                          | less-than 100 cu              | 2 | none | no checking account | 0 |\n",
       "| 4 | 7882 | 42 | 2 | guarantor | furniture or equipment | 1 | none | existing credits paid back duly till now                     | male single                             | 45 | ⋯ | skilled employee   | yes | 4 | for free | building society savings agreement or life insurance | less-than 100 cu              | 2 | none | less-than 0 cu      | 0 |\n",
       "| 5 | 4870 | 24 | 3 | none      | new car                | 2 | none | delay in paying off in the past                              | male single                             | 53 | ⋯ | skilled employee   | yes | 4 | for free | unknown or no property                               | less-than 100 cu              | 2 | none | less-than 0 cu      | 1 |\n",
       "| 6 | 9055 | 36 | 2 | none      | education              | 1 | none | existing credits paid back duly till now                     | male single                             | 35 | ⋯ | unskilled resident | yes | 4 | for free | unknown or no property                               | unknown or no savings account | 2 | yes  | no checking account | 0 |\n",
       "\n"
      ],
      "text/plain": [
       "  sum  term payment guarantees reason                 credits other_credits\n",
       "1 1169  6   4       none       television or radio    2       none         \n",
       "2 5951 48   2       none       television or radio    1       none         \n",
       "3 2096 12   2       none       education              1       none         \n",
       "4 7882 42   2       guarantor  furniture or equipment 1       none         \n",
       "5 4870 24   3       none       new car                2       none         \n",
       "6 9055 36   2       none       education              1       none         \n",
       "  credit_report                                               \n",
       "1 critical account or other credits existing(not at this bank)\n",
       "2 existing credits paid back duly till now                    \n",
       "3 critical account or other credits existing(not at this bank)\n",
       "4 existing credits paid back duly till now                    \n",
       "5 delay in paying off in the past                             \n",
       "6 existing credits paid back duly till now                    \n",
       "  marital_status                          age ⋯ qualification      immigrant\n",
       "1 male single                             67  ⋯ skilled employee   yes      \n",
       "2 female divorced or separated or married 22  ⋯ skilled employee   yes      \n",
       "3 male single                             49  ⋯ unskilled resident yes      \n",
       "4 male single                             45  ⋯ skilled employee   yes      \n",
       "5 male single                             53  ⋯ skilled employee   yes      \n",
       "6 male single                             35  ⋯ unskilled resident yes      \n",
       "  residence_since accommodation\n",
       "1 4               own          \n",
       "2 2               own          \n",
       "3 3               own          \n",
       "4 4               for free     \n",
       "5 4               for free     \n",
       "6 4               for free     \n",
       "  estate                                              \n",
       "1 real estate                                         \n",
       "2 real estate                                         \n",
       "3 real estate                                         \n",
       "4 building society savings agreement or life insurance\n",
       "5 unknown or no property                              \n",
       "6 unknown or no property                              \n",
       "  savings                       dependents phone status              bankruptcy\n",
       "1 unknown or no savings account 1          yes   less-than 0 cu      0         \n",
       "2 less-than 100 cu              1          none  0 to 200 cu         1         \n",
       "3 less-than 100 cu              2          none  no checking account 0         \n",
       "4 less-than 100 cu              2          none  less-than 0 cu      0         \n",
       "5 less-than 100 cu              2          none  less-than 0 cu      1         \n",
       "6 unknown or no savings account 2          yes   no checking account 0         "
      ]
     },
     "metadata": {},
     "output_type": "display_data"
    }
   ],
   "source": [
    "head(data)"
   ]
  },
  {
   "cell_type": "code",
   "execution_count": 8,
   "id": "42d75d83-63f0-4bac-bc25-c121fbd2f733",
   "metadata": {},
   "outputs": [
    {
     "name": "stdout",
     "output_type": "stream",
     "text": [
      "'data.frame':\t800 obs. of  21 variables:\n",
      " $ sum            : int  1169 5951 2096 7882 4870 9055 2835 6948 3059 5234 ...\n",
      " $ term           : int  6 48 12 42 24 36 24 36 12 30 ...\n",
      " $ payment        : int  4 2 2 2 3 2 3 2 2 4 ...\n",
      " $ guarantees     : chr  \"none\" \"none\" \"none\" \"guarantor\" ...\n",
      " $ reason         : chr  \"television or radio\" \"television or radio\" \"education\" \"furniture or equipment\" ...\n",
      " $ credits        : int  2 1 1 1 2 1 1 1 1 2 ...\n",
      " $ other_credits  : chr  \"none\" \"none\" \"none\" \"none\" ...\n",
      " $ credit_report  : chr  \"critical account or other credits existing(not at this bank)\" \"existing credits paid back duly till now\" \"critical account or other credits existing(not at this bank)\" \"existing credits paid back duly till now\" ...\n",
      " $ marital_status : chr  \"male single\" \"female divorced or separated or married\" \"male single\" \"male single\" ...\n",
      " $ age            : int  67 22 49 45 53 35 53 35 61 28 ...\n",
      " $ employment     : chr  \"7+ y.\" \"1 to 4 y.\" \"4 to 7 y.\" \"4 to 7 y.\" ...\n",
      " $ qualification  : chr  \"skilled employee\" \"skilled employee\" \"unskilled resident\" \"skilled employee\" ...\n",
      " $ immigrant      : chr  \"yes\" \"yes\" \"yes\" \"yes\" ...\n",
      " $ residence_since: int  4 2 3 4 4 4 4 2 4 2 ...\n",
      " $ accommodation  : chr  \"own\" \"own\" \"own\" \"for free\" ...\n",
      " $ estate         : chr  \"real estate\" \"real estate\" \"real estate\" \"building society savings agreement or life insurance\" ...\n",
      " $ savings        : chr  \"unknown or no savings account\" \"less-than 100 cu\" \"less-than 100 cu\" \"less-than 100 cu\" ...\n",
      " $ dependents     : int  1 1 2 2 2 2 1 1 1 1 ...\n",
      " $ phone          : chr  \"yes\" \"none\" \"none\" \"none\" ...\n",
      " $ status         : chr  \"less-than 0 cu\" \"0 to 200 cu\" \"no checking account\" \"less-than 0 cu\" ...\n",
      " $ bankruptcy     : int  0 1 0 0 1 0 0 0 0 1 ...\n"
     ]
    }
   ],
   "source": [
    "str(data)"
   ]
  },
  {
   "cell_type": "code",
   "execution_count": 9,
   "id": "1ace0fd8-6bba-4421-a422-d1b778008851",
   "metadata": {},
   "outputs": [
    {
     "data": {
      "text/plain": [
       "      sum             term          payment       guarantees       \n",
       " Min.   :  250   Min.   : 4.00   Min.   :1.000   Length:800        \n",
       " 1st Qu.: 1342   1st Qu.:12.00   1st Qu.:2.000   Class :character  \n",
       " Median : 2282   Median :18.00   Median :3.000   Mode  :character  \n",
       " Mean   : 3191   Mean   :20.65   Mean   :2.966                     \n",
       " 3rd Qu.: 3914   3rd Qu.:24.00   3rd Qu.:4.000                     \n",
       " Max.   :15945   Max.   :72.00   Max.   :4.000                     \n",
       "    reason             credits      other_credits      credit_report     \n",
       " Length:800         Min.   :1.000   Length:800         Length:800        \n",
       " Class :character   1st Qu.:1.000   Class :character   Class :character  \n",
       " Mode  :character   Median :1.000   Mode  :character   Mode  :character  \n",
       "                    Mean   :1.396                                        \n",
       "                    3rd Qu.:2.000                                        \n",
       "                    Max.   :4.000                                        \n",
       " marital_status          age         employment        qualification     \n",
       " Length:800         Min.   :19.00   Length:800         Length:800        \n",
       " Class :character   1st Qu.:27.00   Class :character   Class :character  \n",
       " Mode  :character   Median :33.00   Mode  :character   Mode  :character  \n",
       "                    Mean   :35.41                                        \n",
       "                    3rd Qu.:41.00                                        \n",
       "                    Max.   :75.00                                        \n",
       "  immigrant         residence_since accommodation         estate         \n",
       " Length:800         Min.   :1.000   Length:800         Length:800        \n",
       " Class :character   1st Qu.:2.000   Class :character   Class :character  \n",
       " Mode  :character   Median :3.000   Mode  :character   Mode  :character  \n",
       "                    Mean   :2.841                                        \n",
       "                    3rd Qu.:4.000                                        \n",
       "                    Max.   :4.000                                        \n",
       "   savings            dependents       phone              status         \n",
       " Length:800         Min.   :1.000   Length:800         Length:800        \n",
       " Class :character   1st Qu.:1.000   Class :character   Class :character  \n",
       " Mode  :character   Median :1.000   Mode  :character   Mode  :character  \n",
       "                    Mean   :1.147                                        \n",
       "                    3rd Qu.:1.000                                        \n",
       "                    Max.   :2.000                                        \n",
       "   bankruptcy    \n",
       " Min.   :0.0000  \n",
       " 1st Qu.:0.0000  \n",
       " Median :0.0000  \n",
       " Mean   :0.2988  \n",
       " 3rd Qu.:1.0000  \n",
       " Max.   :1.0000  "
      ]
     },
     "metadata": {},
     "output_type": "display_data"
    }
   ],
   "source": [
    "summary(data)"
   ]
  },
  {
   "cell_type": "code",
   "execution_count": 10,
   "id": "8e1e20b7-cb1e-471a-8245-e4de49a34ebd",
   "metadata": {},
   "outputs": [
    {
     "data": {
      "image/png": "[encoded data removed]",
      "text/plain": [
       "plot without title"
      ]
     },
     "metadata": {
      "image/png": {
       "height": 420,
       "width": 420
      }
     },
     "output_type": "display_data"
    }
   ],
   "source": [
    "ggplot(data, aes(x=sum)) + geom_density(alpha=.3)"
   ]
  },
  {
   "cell_type": "code",
   "execution_count": 11,
   "id": "2ec969f6-1a82-4e50-84b8-50d2e3f3f59d",
   "metadata": {},
   "outputs": [
    {
     "data": {
      "image/png": "[encoded data removed]",
      "text/plain": [
       "plot without title"
      ]
     },
     "metadata": {
      "image/png": {
       "height": 420,
       "width": 420
      }
     },
     "output_type": "display_data"
    }
   ],
   "source": [
    "ggplot(data, aes(x=term)) + geom_density(alpha=.3)"
   ]
  },
  {
   "cell_type": "code",
   "execution_count": 12,
   "id": "a762db75-fd57-4ee3-9440-6532be2f2122",
   "metadata": {},
   "outputs": [
    {
     "data": {
      "image/png": "[encoded data removed]",
      "text/plain": [
       "plot without title"
      ]
     },
     "metadata": {
      "image/png": {
       "height": 420,
       "width": 420
      }
     },
     "output_type": "display_data"
    }
   ],
   "source": [
    "ggplot(data, aes(x = payment)) + geom_density(alpha=.3)"
   ]
  },
  {
   "cell_type": "code",
   "execution_count": 13,
   "id": "fabdcb12-dff5-4025-932c-a44cc07b8de3",
   "metadata": {},
   "outputs": [
    {
     "data": {
      "image/png": "[encoded data removed]",
      "text/plain": [
       "plot without title"
      ]
     },
     "metadata": {
      "image/png": {
       "height": 420,
       "width": 420
      }
     },
     "output_type": "display_data"
    }
   ],
   "source": [
    "ggplot(data, aes(x=credits)) + geom_density(alpha=.3)"
   ]
  },
  {
   "cell_type": "code",
   "execution_count": 14,
   "id": "cd3e61b7-027e-405a-b00f-da6f3a0e870e",
   "metadata": {},
   "outputs": [
    {
     "data": {
      "image/png": "[encoded data removed]",
      "text/plain": [
       "plot without title"
      ]
     },
     "metadata": {
      "image/png": {
       "height": 420,
       "width": 420
      }
     },
     "output_type": "display_data"
    }
   ],
   "source": [
    "ggplot(data, aes(x=age)) + geom_density(alpha=.3)"
   ]
  },
  {
   "cell_type": "code",
   "execution_count": 15,
   "id": "15cadbb4-94ab-4ce3-bba2-cb56d357e472",
   "metadata": {},
   "outputs": [
    {
     "data": {
      "image/png": "[encoded data removed]",
      "text/plain": [
       "plot without title"
      ]
     },
     "metadata": {
      "image/png": {
       "height": 420,
       "width": 420
      }
     },
     "output_type": "display_data"
    }
   ],
   "source": [
    "ggplot(data, aes(x=residence_since)) + geom_density(alpha=.3)"
   ]
  },
  {
   "cell_type": "code",
   "execution_count": 16,
   "id": "60ba9b95-3ead-4cc8-81b2-63d39ac39795",
   "metadata": {},
   "outputs": [
    {
     "data": {
      "image/png": "[encoded data removed]",
      "text/plain": [
       "plot without title"
      ]
     },
     "metadata": {
      "image/png": {
       "height": 420,
       "width": 420
      }
     },
     "output_type": "display_data"
    }
   ],
   "source": [
    "ggplot(data, aes(x=dependents)) + geom_density(alpha=.3)"
   ]
  },
  {
   "cell_type": "code",
   "execution_count": 17,
   "id": "ed25e996-eec5-402e-a4f7-d4d73d817085",
   "metadata": {},
   "outputs": [],
   "source": [
    "data$bankruptcy[data$bankruptcy == 1] <- \"Bankrupt\"\n",
    "data$bankruptcy[data$bankruptcy == 0] <- \"No Bankrupt\""
   ]
  },
  {
   "cell_type": "code",
   "execution_count": 18,
   "id": "c260ca25-5198-45df-93b7-6fff53d88104",
   "metadata": {},
   "outputs": [
    {
     "data": {
      "text/html": [
       "<table class=\"dataframe\">\n",
       "<caption>A data.frame: 2 × 2</caption>\n",
       "<thead>\n",
       "\t<tr><th scope=col>bankruptcy</th><th scope=col>n</th></tr>\n",
       "\t<tr><th scope=col>&lt;chr&gt;</th><th scope=col>&lt;int&gt;</th></tr>\n",
       "</thead>\n",
       "<tbody>\n",
       "\t<tr><td>Bankrupt   </td><td>239</td></tr>\n",
       "\t<tr><td>No Bankrupt</td><td>561</td></tr>\n",
       "</tbody>\n",
       "</table>\n"
      ],
      "text/latex": [
       "A data.frame: 2 × 2\n",
       "\\begin{tabular}{ll}\n",
       " bankruptcy & n\\\\\n",
       " <chr> & <int>\\\\\n",
       "\\hline\n",
       "\t Bankrupt    & 239\\\\\n",
       "\t No Bankrupt & 561\\\\\n",
       "\\end{tabular}\n"
      ],
      "text/markdown": [
       "\n",
       "A data.frame: 2 × 2\n",
       "\n",
       "| bankruptcy &lt;chr&gt; | n &lt;int&gt; |\n",
       "|---|---|\n",
       "| Bankrupt    | 239 |\n",
       "| No Bankrupt | 561 |\n",
       "\n"
      ],
      "text/plain": [
       "  bankruptcy  n  \n",
       "1 Bankrupt    239\n",
       "2 No Bankrupt 561"
      ]
     },
     "metadata": {},
     "output_type": "display_data"
    }
   ],
   "source": [
    "count(data, bankruptcy)"
   ]
  },
  {
   "cell_type": "code",
   "execution_count": 19,
   "id": "d900fd06-7374-477b-bacc-5178313c1b3b",
   "metadata": {},
   "outputs": [
    {
     "data": {
      "image/png": "[encoded data removed]",
      "text/plain": [
       "plot without title"
      ]
     },
     "metadata": {
      "image/png": {
       "height": 420,
       "width": 420
      }
     },
     "output_type": "display_data"
    }
   ],
   "source": [
    "ggplot(data, aes(x=sum, y=bankruptcy, fill=bankruptcy)) + geom_boxplot()"
   ]
  },
  {
   "cell_type": "code",
   "execution_count": 20,
   "id": "99fd9192-3f08-4349-8d00-b8dcb6b4fd8e",
   "metadata": {},
   "outputs": [
    {
     "data": {
      "image/png": "[encoded data removed]",
      "text/plain": [
       "plot without title"
      ]
     },
     "metadata": {
      "image/png": {
       "height": 420,
       "width": 420
      }
     },
     "output_type": "display_data"
    }
   ],
   "source": [
    "ggplot(data, aes(x=term, y=bankruptcy, fill=bankruptcy)) + geom_boxplot()"
   ]
  },
  {
   "cell_type": "code",
   "execution_count": 21,
   "id": "d7c57439-dfa9-457d-9228-f09609c436d2",
   "metadata": {},
   "outputs": [
    {
     "data": {
      "image/png": "[encoded data removed]",
      "text/plain": [
       "plot without title"
      ]
     },
     "metadata": {
      "image/png": {
       "height": 420,
       "width": 420
      }
     },
     "output_type": "display_data"
    }
   ],
   "source": [
    "ggplot(data, aes(x=payment, y=bankruptcy, fill=bankruptcy)) + geom_boxplot()"
   ]
  },
  {
   "cell_type": "code",
   "execution_count": 22,
   "id": "ac7e617a-e7ee-4c71-b4ca-6d0e755c9b07",
   "metadata": {},
   "outputs": [
    {
     "data": {
      "image/png": "[encoded data removed]",
      "text/plain": [
       "plot without title"
      ]
     },
     "metadata": {
      "image/png": {
       "height": 420,
       "width": 420
      }
     },
     "output_type": "display_data"
    }
   ],
   "source": [
    "ggplot(data, aes(x=credits, y=bankruptcy, fill=bankruptcy)) + geom_boxplot()"
   ]
  },
  {
   "cell_type": "code",
   "execution_count": 23,
   "id": "190435b4-de8a-441c-b8e4-4434c85c733f",
   "metadata": {},
   "outputs": [
    {
     "data": {
      "image/png": "[encoded data removed]",
      "text/plain": [
       "plot without title"
      ]
     },
     "metadata": {
      "image/png": {
       "height": 420,
       "width": 420
      }
     },
     "output_type": "display_data"
    }
   ],
   "source": [
    "ggplot(data, aes(x=age, y=bankruptcy, fill=bankruptcy)) + geom_boxplot()"
   ]
  },
  {
   "cell_type": "code",
   "execution_count": 24,
   "id": "559c7a57-719f-4092-9419-9b8d2ffc5ede",
   "metadata": {},
   "outputs": [
    {
     "data": {
      "image/png": "[encoded data removed]",
      "text/plain": [
       "plot without title"
      ]
     },
     "metadata": {
      "image/png": {
       "height": 420,
       "width": 420
      }
     },
     "output_type": "display_data"
    }
   ],
   "source": [
    "ggplot(data, aes(x=residence_since, y=bankruptcy, fill=bankruptcy)) + geom_boxplot()"
   ]
  },
  {
   "cell_type": "code",
   "execution_count": 25,
   "id": "909c7535-e8cd-4d98-9463-8db5289f5cc0",
   "metadata": {},
   "outputs": [
    {
     "data": {
      "image/png": "[encoded data removed]",
      "text/plain": [
       "plot without title"
      ]
     },
     "metadata": {
      "image/png": {
       "height": 420,
       "width": 420
      }
     },
     "output_type": "display_data"
    }
   ],
   "source": [
    "ggplot(data, aes(x=dependents, y=bankruptcy, fill=bankruptcy)) + geom_boxplot()"
   ]
  },
  {
   "cell_type": "code",
   "execution_count": 26,
   "id": "c12ba462-f59a-42f9-9490-d56e808bdc73",
   "metadata": {},
   "outputs": [
    {
     "data": {
      "text/html": [
       "<style>\n",
       ".list-inline {list-style: none; margin:0; padding: 0}\n",
       ".list-inline>li {display: inline-block}\n",
       ".list-inline>li:not(:last-child)::after {content: \"\\00b7\"; padding: 0 .5ex}\n",
       "</style>\n",
       "<ol class=list-inline><li>'sum'</li><li>'term'</li><li>'payment'</li><li>'guarantees'</li><li>'reason'</li><li>'credits'</li><li>'other_credits'</li><li>'credit_report'</li><li>'marital_status'</li><li>'age'</li><li>'employment'</li><li>'qualification'</li><li>'immigrant'</li><li>'residence_since'</li><li>'accommodation'</li><li>'estate'</li><li>'savings'</li><li>'dependents'</li><li>'phone'</li><li>'status'</li><li>'bankruptcy'</li></ol>\n"
      ],
      "text/latex": [
       "\\begin{enumerate*}\n",
       "\\item 'sum'\n",
       "\\item 'term'\n",
       "\\item 'payment'\n",
       "\\item 'guarantees'\n",
       "\\item 'reason'\n",
       "\\item 'credits'\n",
       "\\item 'other\\_credits'\n",
       "\\item 'credit\\_report'\n",
       "\\item 'marital\\_status'\n",
       "\\item 'age'\n",
       "\\item 'employment'\n",
       "\\item 'qualification'\n",
       "\\item 'immigrant'\n",
       "\\item 'residence\\_since'\n",
       "\\item 'accommodation'\n",
       "\\item 'estate'\n",
       "\\item 'savings'\n",
       "\\item 'dependents'\n",
       "\\item 'phone'\n",
       "\\item 'status'\n",
       "\\item 'bankruptcy'\n",
       "\\end{enumerate*}\n"
      ],
      "text/markdown": [
       "1. 'sum'\n",
       "2. 'term'\n",
       "3. 'payment'\n",
       "4. 'guarantees'\n",
       "5. 'reason'\n",
       "6. 'credits'\n",
       "7. 'other_credits'\n",
       "8. 'credit_report'\n",
       "9. 'marital_status'\n",
       "10. 'age'\n",
       "11. 'employment'\n",
       "12. 'qualification'\n",
       "13. 'immigrant'\n",
       "14. 'residence_since'\n",
       "15. 'accommodation'\n",
       "16. 'estate'\n",
       "17. 'savings'\n",
       "18. 'dependents'\n",
       "19. 'phone'\n",
       "20. 'status'\n",
       "21. 'bankruptcy'\n",
       "\n",
       "\n"
      ],
      "text/plain": [
       " [1] \"sum\"             \"term\"            \"payment\"         \"guarantees\"     \n",
       " [5] \"reason\"          \"credits\"         \"other_credits\"   \"credit_report\"  \n",
       " [9] \"marital_status\"  \"age\"             \"employment\"      \"qualification\"  \n",
       "[13] \"immigrant\"       \"residence_since\" \"accommodation\"   \"estate\"         \n",
       "[17] \"savings\"         \"dependents\"      \"phone\"           \"status\"         \n",
       "[21] \"bankruptcy\"     "
      ]
     },
     "metadata": {},
     "output_type": "display_data"
    }
   ],
   "source": [
    "colnames(data)"
   ]
  },
  {
   "cell_type": "code",
   "execution_count": 27,
   "id": "d31a89f8-91bf-4503-b9e2-fad97da7e98c",
   "metadata": {},
   "outputs": [
    {
     "data": {
      "text/plain": [
       "\n",
       "   Bankrupt No Bankrupt \n",
       "        239         561 "
      ]
     },
     "metadata": {},
     "output_type": "display_data"
    }
   ],
   "source": [
    "table(data$bankruptcy)"
   ]
  },
  {
   "cell_type": "code",
   "execution_count": 28,
   "id": "5997bca2-0c13-4a46-acce-950e188de2cb",
   "metadata": {},
   "outputs": [
    {
     "data": {
      "text/plain": [
       "              \n",
       "               Bankrupt No Bankrupt\n",
       "  co-applicant       14          16\n",
       "  guarantor           8          34\n",
       "  none              217         511"
      ]
     },
     "metadata": {},
     "output_type": "display_data"
    }
   ],
   "source": [
    "table(data$guarantees, data$bankruptcy)"
   ]
  },
  {
   "cell_type": "code",
   "execution_count": 29,
   "id": "e0013f4b-5904-4bb5-97b1-f1c560dda237",
   "metadata": {},
   "outputs": [
    {
     "data": {
      "text/plain": [
       "              \n",
       "               business education furniture or equipment household appliances\n",
       "  co-applicant        1         0                      8                    0\n",
       "  guarantor           2         0                      6                    0\n",
       "  none               74        45                    130                    9\n",
       "              \n",
       "               new car other repairs requalification television or radio\n",
       "  co-applicant       8     3       1               0                   9\n",
       "  guarantor          7     1       1               0                  23\n",
       "  none             169     6      17               8                 191\n",
       "              \n",
       "               used car\n",
       "  co-applicant        0\n",
       "  guarantor           2\n",
       "  none               79"
      ]
     },
     "metadata": {},
     "output_type": "display_data"
    }
   ],
   "source": [
    "table(data$guarantees, data$reason)"
   ]
  },
  {
   "cell_type": "code",
   "execution_count": 30,
   "id": "6e9c19e9-40c3-455d-95f8-ecccdb351391",
   "metadata": {},
   "outputs": [
    {
     "data": {
      "text/plain": [
       "        \n",
       "         Bankrupt No Bankrupt\n",
       "  bank         43          69\n",
       "  none        181         472\n",
       "  stores       15          20"
      ]
     },
     "metadata": {},
     "output_type": "display_data"
    }
   ],
   "source": [
    "table(data$other_credits, data$bankruptcy)"
   ]
  },
  {
   "cell_type": "code",
   "execution_count": 31,
   "id": "a80b6239-f11c-4e60-bfa2-9bd28bad21b3",
   "metadata": {},
   "outputs": [
    {
     "data": {
      "text/plain": [
       "                                                              \n",
       "                                                               Bankrupt\n",
       "  all credits at this bank paid back duly                            21\n",
       "  critical account or other credits existing(not at this bank)       43\n",
       "  delay in paying off in the past                                    24\n",
       "  existing credits paid back duly till now                          131\n",
       "  no credits or all paid                                             20\n",
       "                                                              \n",
       "                                                               No Bankrupt\n",
       "  all credits at this bank paid back duly                               16\n",
       "  critical account or other credits existing(not at this bank)         192\n",
       "  delay in paying off in the past                                       47\n",
       "  existing credits paid back duly till now                             293\n",
       "  no credits or all paid                                                13"
      ]
     },
     "metadata": {},
     "output_type": "display_data"
    }
   ],
   "source": [
    "table(data$credit_report, data$bankruptcy)"
   ]
  },
  {
   "cell_type": "code",
   "execution_count": 32,
   "id": "e51523fb-b428-456c-80f6-b229cd3bd2e9",
   "metadata": {},
   "outputs": [
    {
     "data": {
      "text/plain": [
       "                                         \n",
       "                                          Bankrupt No Bankrupt\n",
       "  female divorced or separated or married       93         162\n",
       "  male divorced or separated                    17          21\n",
       "  male married or widowed                       20          50\n",
       "  male single                                  109         328"
      ]
     },
     "metadata": {},
     "output_type": "display_data"
    }
   ],
   "source": [
    "table(data$marital_status, data$bankruptcy)"
   ]
  },
  {
   "cell_type": "code",
   "execution_count": 33,
   "id": "33da1b74-02f2-40b6-b5bc-427a2fda3b99",
   "metadata": {},
   "outputs": [
    {
     "data": {
      "text/plain": [
       "                \n",
       "                 Bankrupt No Bankrupt\n",
       "  1 to 4 y.            84         191\n",
       "  4 to 7 y.            30         111\n",
       "  7+ y.                52         151\n",
       "  less-than 1 y.       54          79\n",
       "  unemployed           19          29"
      ]
     },
     "metadata": {},
     "output_type": "display_data"
    }
   ],
   "source": [
    "table(data$employment, data$bankruptcy)"
   ]
  },
  {
   "cell_type": "code",
   "execution_count": 34,
   "id": "80126695-a1be-4e99-babd-71c406f598c0",
   "metadata": {},
   "outputs": [
    {
     "data": {
      "text/plain": [
       "                                                          \n",
       "                                                           Bankrupt No Bankrupt\n",
       "  management or self-employed or highly qualified employee       44          75\n",
       "  skilled employee                                              144         359\n",
       "  unemployed or unskilled non-resident                            5          12\n",
       "  unskilled resident                                             46         115"
      ]
     },
     "metadata": {},
     "output_type": "display_data"
    }
   ],
   "source": [
    "table(data$qualification, data$bankruptcy)"
   ]
  },
  {
   "cell_type": "code",
   "execution_count": 35,
   "id": "2e482005-7f2e-4c87-bb81-2fbe9a0d7e1b",
   "metadata": {},
   "outputs": [
    {
     "data": {
      "text/plain": [
       "     \n",
       "      Bankrupt No Bankrupt\n",
       "  no         2          25\n",
       "  yes      237         536"
      ]
     },
     "metadata": {},
     "output_type": "display_data"
    }
   ],
   "source": [
    "table(data$immigrant, data$bankruptcy)"
   ]
  },
  {
   "cell_type": "code",
   "execution_count": 36,
   "id": "a5ea1caa-cefa-4329-b676-719146c8444d",
   "metadata": {},
   "outputs": [
    {
     "data": {
      "text/plain": [
       "          \n",
       "           Bankrupt No Bankrupt\n",
       "  for free       36          54\n",
       "  own           149         421\n",
       "  rent           54          86"
      ]
     },
     "metadata": {},
     "output_type": "display_data"
    }
   ],
   "source": [
    "table(data$accommodation, data$bankruptcy)"
   ]
  },
  {
   "cell_type": "code",
   "execution_count": 37,
   "id": "a0e88c81-8349-4a4e-9659-5ef62f79345e",
   "metadata": {},
   "outputs": [
    {
     "data": {
      "text/plain": [
       "                                                      \n",
       "                                                       Bankrupt No Bankrupt\n",
       "  building society savings agreement or life insurance       54         123\n",
       "  car or other                                               79         187\n",
       "  real estate                                                51         178\n",
       "  unknown or no property                                     55          73"
      ]
     },
     "metadata": {},
     "output_type": "display_data"
    }
   ],
   "source": [
    "table(data$estate, data$bankruptcy)"
   ]
  },
  {
   "cell_type": "code",
   "execution_count": 38,
   "id": "ca24939d-9b71-42b7-aaab-6b7f3a548ff0",
   "metadata": {},
   "outputs": [
    {
     "data": {
      "text/plain": [
       "                               \n",
       "                                Bankrupt No Bankrupt\n",
       "  100 to 500 cu                       30          59\n",
       "  500 to 1000 cu                       7          44\n",
       "  greater-than 1000 cu                 6          36\n",
       "  less-than 100 cu                   166         310\n",
       "  unknown or no savings account       30         112"
      ]
     },
     "metadata": {},
     "output_type": "display_data"
    }
   ],
   "source": [
    "table(data$savings, data$bankruptcy)"
   ]
  },
  {
   "cell_type": "code",
   "execution_count": 39,
   "id": "335995c5-c1e3-479d-93a4-a8b0b19a24e6",
   "metadata": {},
   "outputs": [
    {
     "data": {
      "text/plain": [
       "      \n",
       "       Bankrupt No Bankrupt\n",
       "  none      151         330\n",
       "  yes        88         231"
      ]
     },
     "metadata": {},
     "output_type": "display_data"
    }
   ],
   "source": [
    "table(data$phone, data$bankruptcy)"
   ]
  },
  {
   "cell_type": "code",
   "execution_count": 40,
   "id": "fb00a7c9-2e00-4c0f-9314-67d714d516df",
   "metadata": {},
   "outputs": [
    {
     "data": {
      "text/plain": [
       "                                                               \n",
       "                                                                Bankrupt\n",
       "  0 to 200 cu                                                         93\n",
       "  greater-than 200 cu or salary assignments for at least 1 year       12\n",
       "  less-than 0 cu                                                      99\n",
       "  no checking account                                                 35\n",
       "                                                               \n",
       "                                                                No Bankrupt\n",
       "  0 to 200 cu                                                           133\n",
       "  greater-than 200 cu or salary assignments for at least 1 year          43\n",
       "  less-than 0 cu                                                        110\n",
       "  no checking account                                                   275"
      ]
     },
     "metadata": {},
     "output_type": "display_data"
    }
   ],
   "source": [
    "table(data$status, data$bankruptcy)"
   ]
  },
  {
   "cell_type": "code",
   "execution_count": 41,
   "id": "43fd406e-9ecc-401f-b225-40a45378124b",
   "metadata": {},
   "outputs": [],
   "source": [
    "data$bankruptcy[data$bankruptcy == \"Bankrupt\"] <- 1\n",
    "data$bankruptcy[data$bankruptcy == \"No Bankrupt\"] <- 0"
   ]
  },
  {
   "cell_type": "code",
   "execution_count": 42,
   "id": "f09b1e5a-c15f-4e83-9867-a9cc33e9280b",
   "metadata": {},
   "outputs": [],
   "source": [
    "data$bankruptcy=as.numeric(as.character(data$bankruptcy))"
   ]
  },
  {
   "cell_type": "code",
   "execution_count": 43,
   "id": "3788c0e0-d432-47b9-b779-100e63297950",
   "metadata": {},
   "outputs": [],
   "source": [
    "iv = create_infotables(data = data, y = \"bankruptcy\")"
   ]
  },
  {
   "cell_type": "code",
   "execution_count": 44,
   "id": "fec0dce0-2186-4d55-abf5-9a7424016479",
   "metadata": {},
   "outputs": [
    {
     "data": {
      "image/png": "[encoded data removed]",
      "text/plain": [
       "plot without title"
      ]
     },
     "metadata": {
      "image/png": {
       "height": 420,
       "width": 420
      }
     },
     "output_type": "display_data"
    }
   ],
   "source": [
    "grid.table((iv$Summary), rows=NULL)"
   ]
  },
  {
   "cell_type": "code",
   "execution_count": 45,
   "id": "37913914-c926-4bfb-a53e-1e03974ca5d7",
   "metadata": {},
   "outputs": [],
   "source": [
    "data = data %>% select(c('term','credit_report','reason','savings','sum','age','estate','bankruptcy'))"
   ]
  },
  {
   "cell_type": "code",
   "execution_count": 46,
   "id": "867bef2a-cd49-4b14-bf2b-a2d94d469831",
   "metadata": {},
   "outputs": [],
   "source": [
    "data$bankruptcy=as.character(as.numeric(data$bankruptcy))"
   ]
  },
  {
   "cell_type": "code",
   "execution_count": 47,
   "id": "fc074882-79dc-45d8-92d4-c9f8d81e5bf2",
   "metadata": {},
   "outputs": [
    {
     "data": {
      "text/html": [
       "<table class=\"dataframe\">\n",
       "<caption>A data.frame: 6 × 8</caption>\n",
       "<thead>\n",
       "\t<tr><th></th><th scope=col>term</th><th scope=col>credit_report</th><th scope=col>reason</th><th scope=col>savings</th><th scope=col>sum</th><th scope=col>age</th><th scope=col>estate</th><th scope=col>bankruptcy</th></tr>\n",
       "\t<tr><th></th><th scope=col>&lt;int&gt;</th><th scope=col>&lt;chr&gt;</th><th scope=col>&lt;chr&gt;</th><th scope=col>&lt;chr&gt;</th><th scope=col>&lt;int&gt;</th><th scope=col>&lt;int&gt;</th><th scope=col>&lt;chr&gt;</th><th scope=col>&lt;chr&gt;</th></tr>\n",
       "</thead>\n",
       "<tbody>\n",
       "\t<tr><th scope=row>1</th><td> 6</td><td>critical account or other credits existing(not at this bank)</td><td>television or radio   </td><td>unknown or no savings account</td><td>1169</td><td>67</td><td>real estate                                         </td><td>0</td></tr>\n",
       "\t<tr><th scope=row>2</th><td>48</td><td>existing credits paid back duly till now                    </td><td>television or radio   </td><td>less-than 100 cu             </td><td>5951</td><td>22</td><td>real estate                                         </td><td>1</td></tr>\n",
       "\t<tr><th scope=row>3</th><td>12</td><td>critical account or other credits existing(not at this bank)</td><td>education             </td><td>less-than 100 cu             </td><td>2096</td><td>49</td><td>real estate                                         </td><td>0</td></tr>\n",
       "\t<tr><th scope=row>4</th><td>42</td><td>existing credits paid back duly till now                    </td><td>furniture or equipment</td><td>less-than 100 cu             </td><td>7882</td><td>45</td><td>building society savings agreement or life insurance</td><td>0</td></tr>\n",
       "\t<tr><th scope=row>5</th><td>24</td><td>delay in paying off in the past                             </td><td>new car               </td><td>less-than 100 cu             </td><td>4870</td><td>53</td><td>unknown or no property                              </td><td>1</td></tr>\n",
       "\t<tr><th scope=row>6</th><td>36</td><td>existing credits paid back duly till now                    </td><td>education             </td><td>unknown or no savings account</td><td>9055</td><td>35</td><td>unknown or no property                              </td><td>0</td></tr>\n",
       "</tbody>\n",
       "</table>\n"
      ],
      "text/latex": [
       "A data.frame: 6 × 8\n",
       "\\begin{tabular}{r|llllllll}\n",
       "  & term & credit\\_report & reason & savings & sum & age & estate & bankruptcy\\\\\n",
       "  & <int> & <chr> & <chr> & <chr> & <int> & <int> & <chr> & <chr>\\\\\n",
       "\\hline\n",
       "\t1 &  6 & critical account or other credits existing(not at this bank) & television or radio    & unknown or no savings account & 1169 & 67 & real estate                                          & 0\\\\\n",
       "\t2 & 48 & existing credits paid back duly till now                     & television or radio    & less-than 100 cu              & 5951 & 22 & real estate                                          & 1\\\\\n",
       "\t3 & 12 & critical account or other credits existing(not at this bank) & education              & less-than 100 cu              & 2096 & 49 & real estate                                          & 0\\\\\n",
       "\t4 & 42 & existing credits paid back duly till now                     & furniture or equipment & less-than 100 cu              & 7882 & 45 & building society savings agreement or life insurance & 0\\\\\n",
       "\t5 & 24 & delay in paying off in the past                              & new car                & less-than 100 cu              & 4870 & 53 & unknown or no property                               & 1\\\\\n",
       "\t6 & 36 & existing credits paid back duly till now                     & education              & unknown or no savings account & 9055 & 35 & unknown or no property                               & 0\\\\\n",
       "\\end{tabular}\n"
      ],
      "text/markdown": [
       "\n",
       "A data.frame: 6 × 8\n",
       "\n",
       "| <!--/--> | term &lt;int&gt; | credit_report &lt;chr&gt; | reason &lt;chr&gt; | savings &lt;chr&gt; | sum &lt;int&gt; | age &lt;int&gt; | estate &lt;chr&gt; | bankruptcy &lt;chr&gt; |\n",
       "|---|---|---|---|---|---|---|---|---|\n",
       "| 1 |  6 | critical account or other credits existing(not at this bank) | television or radio    | unknown or no savings account | 1169 | 67 | real estate                                          | 0 |\n",
       "| 2 | 48 | existing credits paid back duly till now                     | television or radio    | less-than 100 cu              | 5951 | 22 | real estate                                          | 1 |\n",
       "| 3 | 12 | critical account or other credits existing(not at this bank) | education              | less-than 100 cu              | 2096 | 49 | real estate                                          | 0 |\n",
       "| 4 | 42 | existing credits paid back duly till now                     | furniture or equipment | less-than 100 cu              | 7882 | 45 | building society savings agreement or life insurance | 0 |\n",
       "| 5 | 24 | delay in paying off in the past                              | new car                | less-than 100 cu              | 4870 | 53 | unknown or no property                               | 1 |\n",
       "| 6 | 36 | existing credits paid back duly till now                     | education              | unknown or no savings account | 9055 | 35 | unknown or no property                               | 0 |\n",
       "\n"
      ],
      "text/plain": [
       "  term credit_report                                               \n",
       "1  6   critical account or other credits existing(not at this bank)\n",
       "2 48   existing credits paid back duly till now                    \n",
       "3 12   critical account or other credits existing(not at this bank)\n",
       "4 42   existing credits paid back duly till now                    \n",
       "5 24   delay in paying off in the past                             \n",
       "6 36   existing credits paid back duly till now                    \n",
       "  reason                 savings                       sum  age\n",
       "1 television or radio    unknown or no savings account 1169 67 \n",
       "2 television or radio    less-than 100 cu              5951 22 \n",
       "3 education              less-than 100 cu              2096 49 \n",
       "4 furniture or equipment less-than 100 cu              7882 45 \n",
       "5 new car                less-than 100 cu              4870 53 \n",
       "6 education              unknown or no savings account 9055 35 \n",
       "  estate                                               bankruptcy\n",
       "1 real estate                                          0         \n",
       "2 real estate                                          1         \n",
       "3 real estate                                          0         \n",
       "4 building society savings agreement or life insurance 0         \n",
       "5 unknown or no property                               1         \n",
       "6 unknown or no property                               0         "
      ]
     },
     "metadata": {},
     "output_type": "display_data"
    }
   ],
   "source": [
    "head(data)"
   ]
  },
  {
   "cell_type": "code",
   "execution_count": 48,
   "id": "a698d7fe-36e8-4262-a4b3-5a43d989a5a0",
   "metadata": {},
   "outputs": [],
   "source": [
    "data$credit_report <- as.numeric(factor(data$credit_report))"
   ]
  },
  {
   "cell_type": "code",
   "execution_count": 49,
   "id": "787cd932-55dd-4954-8967-d26feb7ef49b",
   "metadata": {},
   "outputs": [],
   "source": [
    "data$reason <- as.numeric(factor(data$reason))"
   ]
  },
  {
   "cell_type": "code",
   "execution_count": 50,
   "id": "b1ee59b7-811c-442e-8200-b4f2e66b401b",
   "metadata": {},
   "outputs": [],
   "source": [
    "data$savings <- as.numeric(factor(data$savings))"
   ]
  },
  {
   "cell_type": "code",
   "execution_count": 51,
   "id": "6d6422c9-6728-47c0-8591-5eddcfa84011",
   "metadata": {},
   "outputs": [],
   "source": [
    "data$estate <- as.numeric(factor(data$estate))"
   ]
  },
  {
   "cell_type": "code",
   "execution_count": 52,
   "id": "beefe4b0-5535-48e6-8d42-8c95de3c4e64",
   "metadata": {},
   "outputs": [
    {
     "data": {
      "text/html": [
       "<table class=\"dataframe\">\n",
       "<caption>A data.frame: 6 × 8</caption>\n",
       "<thead>\n",
       "\t<tr><th></th><th scope=col>term</th><th scope=col>credit_report</th><th scope=col>reason</th><th scope=col>savings</th><th scope=col>sum</th><th scope=col>age</th><th scope=col>estate</th><th scope=col>bankruptcy</th></tr>\n",
       "\t<tr><th></th><th scope=col>&lt;int&gt;</th><th scope=col>&lt;dbl&gt;</th><th scope=col>&lt;dbl&gt;</th><th scope=col>&lt;dbl&gt;</th><th scope=col>&lt;int&gt;</th><th scope=col>&lt;int&gt;</th><th scope=col>&lt;dbl&gt;</th><th scope=col>&lt;chr&gt;</th></tr>\n",
       "</thead>\n",
       "<tbody>\n",
       "\t<tr><th scope=row>1</th><td> 6</td><td>2</td><td>9</td><td>5</td><td>1169</td><td>67</td><td>3</td><td>0</td></tr>\n",
       "\t<tr><th scope=row>2</th><td>48</td><td>4</td><td>9</td><td>4</td><td>5951</td><td>22</td><td>3</td><td>1</td></tr>\n",
       "\t<tr><th scope=row>3</th><td>12</td><td>2</td><td>2</td><td>4</td><td>2096</td><td>49</td><td>3</td><td>0</td></tr>\n",
       "\t<tr><th scope=row>4</th><td>42</td><td>4</td><td>3</td><td>4</td><td>7882</td><td>45</td><td>1</td><td>0</td></tr>\n",
       "\t<tr><th scope=row>5</th><td>24</td><td>3</td><td>5</td><td>4</td><td>4870</td><td>53</td><td>4</td><td>1</td></tr>\n",
       "\t<tr><th scope=row>6</th><td>36</td><td>4</td><td>2</td><td>5</td><td>9055</td><td>35</td><td>4</td><td>0</td></tr>\n",
       "</tbody>\n",
       "</table>\n"
      ],
      "text/latex": [
       "A data.frame: 6 × 8\n",
       "\\begin{tabular}{r|llllllll}\n",
       "  & term & credit\\_report & reason & savings & sum & age & estate & bankruptcy\\\\\n",
       "  & <int> & <dbl> & <dbl> & <dbl> & <int> & <int> & <dbl> & <chr>\\\\\n",
       "\\hline\n",
       "\t1 &  6 & 2 & 9 & 5 & 1169 & 67 & 3 & 0\\\\\n",
       "\t2 & 48 & 4 & 9 & 4 & 5951 & 22 & 3 & 1\\\\\n",
       "\t3 & 12 & 2 & 2 & 4 & 2096 & 49 & 3 & 0\\\\\n",
       "\t4 & 42 & 4 & 3 & 4 & 7882 & 45 & 1 & 0\\\\\n",
       "\t5 & 24 & 3 & 5 & 4 & 4870 & 53 & 4 & 1\\\\\n",
       "\t6 & 36 & 4 & 2 & 5 & 9055 & 35 & 4 & 0\\\\\n",
       "\\end{tabular}\n"
      ],
      "text/markdown": [
       "\n",
       "A data.frame: 6 × 8\n",
       "\n",
       "| <!--/--> | term &lt;int&gt; | credit_report &lt;dbl&gt; | reason &lt;dbl&gt; | savings &lt;dbl&gt; | sum &lt;int&gt; | age &lt;int&gt; | estate &lt;dbl&gt; | bankruptcy &lt;chr&gt; |\n",
       "|---|---|---|---|---|---|---|---|---|\n",
       "| 1 |  6 | 2 | 9 | 5 | 1169 | 67 | 3 | 0 |\n",
       "| 2 | 48 | 4 | 9 | 4 | 5951 | 22 | 3 | 1 |\n",
       "| 3 | 12 | 2 | 2 | 4 | 2096 | 49 | 3 | 0 |\n",
       "| 4 | 42 | 4 | 3 | 4 | 7882 | 45 | 1 | 0 |\n",
       "| 5 | 24 | 3 | 5 | 4 | 4870 | 53 | 4 | 1 |\n",
       "| 6 | 36 | 4 | 2 | 5 | 9055 | 35 | 4 | 0 |\n",
       "\n"
      ],
      "text/plain": [
       "  term credit_report reason savings sum  age estate bankruptcy\n",
       "1  6   2             9      5       1169 67  3      0         \n",
       "2 48   4             9      4       5951 22  3      1         \n",
       "3 12   2             2      4       2096 49  3      0         \n",
       "4 42   4             3      4       7882 45  1      0         \n",
       "5 24   3             5      4       4870 53  4      1         \n",
       "6 36   4             2      5       9055 35  4      0         "
      ]
     },
     "metadata": {},
     "output_type": "display_data"
    }
   ],
   "source": [
    "head(data)"
   ]
  },
  {
   "cell_type": "code",
   "execution_count": 53,
   "id": "1b5c76dc-e69b-41d1-aa72-d2373364717a",
   "metadata": {},
   "outputs": [],
   "source": [
    "sample_data = sample.split(data, SplitRatio = 0.8)\n",
    "train_data <- subset(data, sample_data == TRUE)\n",
    "test_data <- subset(data, sample_data == FALSE)"
   ]
  },
  {
   "cell_type": "code",
   "execution_count": 54,
   "id": "91275e88-f737-4347-b754-2ad4e4d80b7c",
   "metadata": {},
   "outputs": [
    {
     "data": {
      "image/png": "[encoded data removed]",
      "text/plain": [
       "plot without title"
      ]
     },
     "metadata": {
      "image/png": {
       "height": 420,
       "width": 420
      }
     },
     "output_type": "display_data"
    }
   ],
   "source": [
    "rtree <- rpart( bankruptcy~ ., train_data, method = \"class\")\n",
    "rpart.plot(rtree)"
   ]
  },
  {
   "cell_type": "code",
   "execution_count": 55,
   "id": "42fb1897-b1a5-44c3-a8a0-7b5ad1559d46",
   "metadata": {},
   "outputs": [],
   "source": [
    "predict_model<-predict(rtree, test_data,type=\"class\")"
   ]
  },
  {
   "cell_type": "code",
   "execution_count": 56,
   "id": "39c3606f-5999-4f90-a475-9cbe7e925ea9",
   "metadata": {},
   "outputs": [
    {
     "data": {
      "text/plain": [
       "   predict_model\n",
       "      0   1\n",
       "  0 119  14\n",
       "  1  41  26"
      ]
     },
     "metadata": {},
     "output_type": "display_data"
    }
   ],
   "source": [
    "cm <- as.matrix(table(test_data$bankruptcy, predict_model))\n",
    "cm"
   ]
  },
  {
   "cell_type": "code",
   "execution_count": 57,
   "id": "731c1133-79f7-4030-990d-11ecb3a7bb5e",
   "metadata": {},
   "outputs": [],
   "source": [
    "n = sum(cm) # number of instances\n",
    "nc = nrow(cm) # number of classes\n",
    "diag = diag(cm) # number of correctly classified instances per class \n",
    "rowsums = apply(cm, 1, sum) # number of instances per class\n",
    "colsums = apply(cm, 2, sum) # number of predictions per class\n",
    "p = rowsums / n # distribution of instances over the actual classes\n",
    "q = colsums / n # distribution of instances over the predicted"
   ]
  },
  {
   "cell_type": "code",
   "execution_count": 58,
   "id": "ac410394-6931-4088-baab-a0781c3cadcf",
   "metadata": {},
   "outputs": [
    {
     "data": {
      "text/html": [
       "0.725"
      ],
      "text/latex": [
       "0.725"
      ],
      "text/markdown": [
       "0.725"
      ],
      "text/plain": [
       "[1] 0.725"
      ]
     },
     "metadata": {},
     "output_type": "display_data"
    }
   ],
   "source": [
    "accuracy = sum(diag) / n\n",
    "accuracy"
   ]
  },
  {
   "cell_type": "code",
   "execution_count": 59,
   "id": "9791cc15-303b-4dab-aba1-c02e0faa02d4",
   "metadata": {},
   "outputs": [],
   "source": [
    "precision = diag / colsums \n",
    "recall = diag / rowsums \n",
    "f1 = 2 * precision * recall / (precision + recall) "
   ]
  },
  {
   "cell_type": "code",
   "execution_count": 60,
   "id": "30b09906-d316-4462-9faa-dcb7054317d0",
   "metadata": {},
   "outputs": [
    {
     "data": {
      "text/html": [
       "<table class=\"dataframe\">\n",
       "<caption>A data.frame: 2 × 4</caption>\n",
       "<thead>\n",
       "\t<tr><th></th><th scope=col>accuracy</th><th scope=col>precision</th><th scope=col>recall</th><th scope=col>f1</th></tr>\n",
       "\t<tr><th></th><th scope=col>&lt;dbl&gt;</th><th scope=col>&lt;dbl&gt;</th><th scope=col>&lt;dbl&gt;</th><th scope=col>&lt;dbl&gt;</th></tr>\n",
       "</thead>\n",
       "<tbody>\n",
       "\t<tr><th scope=row>0</th><td>0.725</td><td>0.74375</td><td>0.8947368</td><td>0.8122867</td></tr>\n",
       "\t<tr><th scope=row>1</th><td>0.725</td><td>0.65000</td><td>0.3880597</td><td>0.4859813</td></tr>\n",
       "</tbody>\n",
       "</table>\n"
      ],
      "text/latex": [
       "A data.frame: 2 × 4\n",
       "\\begin{tabular}{r|llll}\n",
       "  & accuracy & precision & recall & f1\\\\\n",
       "  & <dbl> & <dbl> & <dbl> & <dbl>\\\\\n",
       "\\hline\n",
       "\t0 & 0.725 & 0.74375 & 0.8947368 & 0.8122867\\\\\n",
       "\t1 & 0.725 & 0.65000 & 0.3880597 & 0.4859813\\\\\n",
       "\\end{tabular}\n"
      ],
      "text/markdown": [
       "\n",
       "A data.frame: 2 × 4\n",
       "\n",
       "| <!--/--> | accuracy &lt;dbl&gt; | precision &lt;dbl&gt; | recall &lt;dbl&gt; | f1 &lt;dbl&gt; |\n",
       "|---|---|---|---|---|\n",
       "| 0 | 0.725 | 0.74375 | 0.8947368 | 0.8122867 |\n",
       "| 1 | 0.725 | 0.65000 | 0.3880597 | 0.4859813 |\n",
       "\n"
      ],
      "text/plain": [
       "  accuracy precision recall    f1       \n",
       "0 0.725    0.74375   0.8947368 0.8122867\n",
       "1 0.725    0.65000   0.3880597 0.4859813"
      ]
     },
     "metadata": {},
     "output_type": "display_data"
    }
   ],
   "source": [
    "data.frame(accuracy, precision, recall, f1) "
   ]
  },
  {
   "cell_type": "code",
   "execution_count": 61,
   "id": "afb59e32-6d11-4ed5-8258-3602adac52a7",
   "metadata": {},
   "outputs": [],
   "source": [
    "macroPrecision = mean(precision)\n",
    "macroRecall = mean(recall)\n",
    "macroF1 = mean(f1)"
   ]
  },
  {
   "cell_type": "code",
   "execution_count": 62,
   "id": "69fcfdcc-9bad-47a9-b65c-9e7799c1439b",
   "metadata": {},
   "outputs": [
    {
     "data": {
      "text/html": [
       "<table class=\"dataframe\">\n",
       "<caption>A data.frame: 1 × 4</caption>\n",
       "<thead>\n",
       "\t<tr><th scope=col>accuracy</th><th scope=col>macroPrecision</th><th scope=col>macroRecall</th><th scope=col>macroF1</th></tr>\n",
       "\t<tr><th scope=col>&lt;dbl&gt;</th><th scope=col>&lt;dbl&gt;</th><th scope=col>&lt;dbl&gt;</th><th scope=col>&lt;dbl&gt;</th></tr>\n",
       "</thead>\n",
       "<tbody>\n",
       "\t<tr><td>0.725</td><td>0.696875</td><td>0.6413983</td><td>0.649134</td></tr>\n",
       "</tbody>\n",
       "</table>\n"
      ],
      "text/latex": [
       "A data.frame: 1 × 4\n",
       "\\begin{tabular}{llll}\n",
       " accuracy & macroPrecision & macroRecall & macroF1\\\\\n",
       " <dbl> & <dbl> & <dbl> & <dbl>\\\\\n",
       "\\hline\n",
       "\t 0.725 & 0.696875 & 0.6413983 & 0.649134\\\\\n",
       "\\end{tabular}\n"
      ],
      "text/markdown": [
       "\n",
       "A data.frame: 1 × 4\n",
       "\n",
       "| accuracy &lt;dbl&gt; | macroPrecision &lt;dbl&gt; | macroRecall &lt;dbl&gt; | macroF1 &lt;dbl&gt; |\n",
       "|---|---|---|---|\n",
       "| 0.725 | 0.696875 | 0.6413983 | 0.649134 |\n",
       "\n"
      ],
      "text/plain": [
       "  accuracy macroPrecision macroRecall macroF1 \n",
       "1 0.725    0.696875       0.6413983   0.649134"
      ]
     },
     "metadata": {},
     "output_type": "display_data"
    }
   ],
   "source": [
    "data.frame(accuracy,macroPrecision, macroRecall, macroF1)"
   ]
  },
  {
   "cell_type": "code",
   "execution_count": 65,
   "id": "abe5c7cc-3d66-4bcc-a2c6-d21aafeac4b9",
   "metadata": {},
   "outputs": [
    {
     "data": {
      "text/plain": [
       "\n",
       "Call:\n",
       " randomForest(formula = as.factor(bankruptcy) ~ ., data = train_data,      ntree = 1000, proximity = TRUE) \n",
       "               Type of random forest: classification\n",
       "                     Number of trees: 1000\n",
       "No. of variables tried at each split: 2\n",
       "\n",
       "        OOB estimate of  error rate: 27.33%\n",
       "Confusion matrix:\n",
       "    0  1 class.error\n",
       "0 386 42  0.09813084\n",
       "1 122 50  0.70930233"
      ]
     },
     "metadata": {},
     "output_type": "display_data"
    }
   ],
   "source": [
    "Model<-randomForest(as.factor(bankruptcy)~.,data=train_data,ntree=1000,proximity=TRUE)  \n",
    "Model \n",
    "# table(predict(iris_rf), trainData$Species)"
   ]
  },
  {
   "cell_type": "code",
   "execution_count": 67,
   "id": "26ad48da-76c9-4096-94bb-8ab0e3f828a4",
   "metadata": {},
   "outputs": [],
   "source": [
    "predict_model<-predict(Model, test_data,type=\"class\")"
   ]
  },
  {
   "cell_type": "code",
   "execution_count": 68,
   "id": "7b921eb9-8415-4ef3-ac99-f551c3be357e",
   "metadata": {},
   "outputs": [
    {
     "data": {
      "text/plain": [
       "   predict_model\n",
       "      0   1\n",
       "  0 116  17\n",
       "  1  45  22"
      ]
     },
     "metadata": {},
     "output_type": "display_data"
    }
   ],
   "source": [
    "cm <- as.matrix(table(test_data$bankruptcy, predict_model))\n",
    "cm"
   ]
  },
  {
   "cell_type": "code",
   "execution_count": 69,
   "id": "f683f7cd-93a9-463b-9124-a16aaf890777",
   "metadata": {},
   "outputs": [],
   "source": [
    "n = sum(cm) # number of instances\n",
    "nc = nrow(cm) # number of classes\n",
    "diag = diag(cm) # number of correctly classified instances per class \n",
    "rowsums = apply(cm, 1, sum) # number of instances per class\n",
    "colsums = apply(cm, 2, sum) # number of predictions per class\n",
    "p = rowsums / n # distribution of instances over the actual classes\n",
    "q = colsums / n # distribution of instances over the predicted"
   ]
  },
  {
   "cell_type": "code",
   "execution_count": 70,
   "id": "03e221e7-fcb6-433d-a227-d510f62d7a60",
   "metadata": {},
   "outputs": [
    {
     "data": {
      "text/html": [
       "0.69"
      ],
      "text/latex": [
       "0.69"
      ],
      "text/markdown": [
       "0.69"
      ],
      "text/plain": [
       "[1] 0.69"
      ]
     },
     "metadata": {},
     "output_type": "display_data"
    }
   ],
   "source": [
    "accuracy = sum(diag) / n\n",
    "accuracy"
   ]
  },
  {
   "cell_type": "code",
   "execution_count": 71,
   "id": "989d3a48-74db-44e0-b5b7-641022d5a948",
   "metadata": {},
   "outputs": [],
   "source": [
    "precision = diag / colsums \n",
    "recall = diag / rowsums \n",
    "f1 = 2 * precision * recall / (precision + recall) "
   ]
  },
  {
   "cell_type": "code",
   "execution_count": 72,
   "id": "673ec561-aa5d-47f2-8488-a5c87ca26450",
   "metadata": {},
   "outputs": [
    {
     "data": {
      "text/html": [
       "<table class=\"dataframe\">\n",
       "<caption>A data.frame: 2 × 4</caption>\n",
       "<thead>\n",
       "\t<tr><th></th><th scope=col>accuracy</th><th scope=col>precision</th><th scope=col>recall</th><th scope=col>f1</th></tr>\n",
       "\t<tr><th></th><th scope=col>&lt;dbl&gt;</th><th scope=col>&lt;dbl&gt;</th><th scope=col>&lt;dbl&gt;</th><th scope=col>&lt;dbl&gt;</th></tr>\n",
       "</thead>\n",
       "<tbody>\n",
       "\t<tr><th scope=row>0</th><td>0.69</td><td>0.7204969</td><td>0.8721805</td><td>0.7891156</td></tr>\n",
       "\t<tr><th scope=row>1</th><td>0.69</td><td>0.5641026</td><td>0.3283582</td><td>0.4150943</td></tr>\n",
       "</tbody>\n",
       "</table>\n"
      ],
      "text/latex": [
       "A data.frame: 2 × 4\n",
       "\\begin{tabular}{r|llll}\n",
       "  & accuracy & precision & recall & f1\\\\\n",
       "  & <dbl> & <dbl> & <dbl> & <dbl>\\\\\n",
       "\\hline\n",
       "\t0 & 0.69 & 0.7204969 & 0.8721805 & 0.7891156\\\\\n",
       "\t1 & 0.69 & 0.5641026 & 0.3283582 & 0.4150943\\\\\n",
       "\\end{tabular}\n"
      ],
      "text/markdown": [
       "\n",
       "A data.frame: 2 × 4\n",
       "\n",
       "| <!--/--> | accuracy &lt;dbl&gt; | precision &lt;dbl&gt; | recall &lt;dbl&gt; | f1 &lt;dbl&gt; |\n",
       "|---|---|---|---|---|\n",
       "| 0 | 0.69 | 0.7204969 | 0.8721805 | 0.7891156 |\n",
       "| 1 | 0.69 | 0.5641026 | 0.3283582 | 0.4150943 |\n",
       "\n"
      ],
      "text/plain": [
       "  accuracy precision recall    f1       \n",
       "0 0.69     0.7204969 0.8721805 0.7891156\n",
       "1 0.69     0.5641026 0.3283582 0.4150943"
      ]
     },
     "metadata": {},
     "output_type": "display_data"
    }
   ],
   "source": [
    "data.frame(accuracy, precision, recall, f1) "
   ]
  },
  {
   "cell_type": "code",
   "execution_count": 73,
   "id": "247c81f1-b7af-412e-a850-f42fcd848044",
   "metadata": {},
   "outputs": [],
   "source": [
    "macroPrecision = mean(precision)\n",
    "macroRecall = mean(recall)\n",
    "macroF1 = mean(f1)"
   ]
  },
  {
   "cell_type": "code",
   "execution_count": 74,
   "id": "a242aa98-da53-4950-bba6-47ed4e840f89",
   "metadata": {},
   "outputs": [
    {
     "data": {
      "text/html": [
       "<table class=\"dataframe\">\n",
       "<caption>A data.frame: 1 × 4</caption>\n",
       "<thead>\n",
       "\t<tr><th scope=col>accuracy</th><th scope=col>macroPrecision</th><th scope=col>macroRecall</th><th scope=col>macroF1</th></tr>\n",
       "\t<tr><th scope=col>&lt;dbl&gt;</th><th scope=col>&lt;dbl&gt;</th><th scope=col>&lt;dbl&gt;</th><th scope=col>&lt;dbl&gt;</th></tr>\n",
       "</thead>\n",
       "<tbody>\n",
       "\t<tr><td>0.69</td><td>0.6422997</td><td>0.6002693</td><td>0.602105</td></tr>\n",
       "</tbody>\n",
       "</table>\n"
      ],
      "text/latex": [
       "A data.frame: 1 × 4\n",
       "\\begin{tabular}{llll}\n",
       " accuracy & macroPrecision & macroRecall & macroF1\\\\\n",
       " <dbl> & <dbl> & <dbl> & <dbl>\\\\\n",
       "\\hline\n",
       "\t 0.69 & 0.6422997 & 0.6002693 & 0.602105\\\\\n",
       "\\end{tabular}\n"
      ],
      "text/markdown": [
       "\n",
       "A data.frame: 1 × 4\n",
       "\n",
       "| accuracy &lt;dbl&gt; | macroPrecision &lt;dbl&gt; | macroRecall &lt;dbl&gt; | macroF1 &lt;dbl&gt; |\n",
       "|---|---|---|---|\n",
       "| 0.69 | 0.6422997 | 0.6002693 | 0.602105 |\n",
       "\n"
      ],
      "text/plain": [
       "  accuracy macroPrecision macroRecall macroF1 \n",
       "1 0.69     0.6422997      0.6002693   0.602105"
      ]
     },
     "metadata": {},
     "output_type": "display_data"
    }
   ],
   "source": [
    "data.frame(accuracy,macroPrecision, macroRecall, macroF1)"
   ]
  },
  {
   "cell_type": "code",
   "execution_count": null,
   "id": "4af6339b-6aa7-4294-aff9-598ebc226b79",
   "metadata": {},
   "outputs": [],
   "source": []
  }
 ],
 "metadata": {
  "kernelspec": {
   "display_name": "R",
   "language": "R",
   "name": "ir"
  },
  "language_info": {
   "codemirror_mode": "r",
   "file_extension": ".r",
   "mimetype": "text/x-r-source",
   "name": "R",
   "pygments_lexer": "r",
   "version": "4.2.3"
  }
 },
 "nbformat": 4,
 "nbformat_minor": 5
}
